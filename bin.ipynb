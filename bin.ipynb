{
 "cells": [
  {
   "cell_type": "markdown",
   "source": [
    "# Exercise 1\n",
    "Convert The following binary numbers into decimal numbers by hand\n",
    "\n",
    "00100111\n",
    "\n",
    "00100111 \n",
    "\n",
    "(1 * 2^5) + (0 * 2^4) + (0 * 2^3)  + (1 * 2^2)  + (1 * 2^1)  + (1 * 2^0) \n",
    "= 64 + 4 + 3 = 71\n",
    "\n",
    "00101101\n",
    "\n",
    "001100111001"
   ],
   "metadata": {}
  },
  {
   "cell_type": "code",
   "execution_count": 78,
   "source": [
    "binary = '00100111'\n",
    "# (1 * 2^5) + (0 * 2^4) + (0 * 2^3)  + (1 * 2^2)  + (1 * 2^1)  + (1 * 2^0) \n",
    "binary = '00101101' \n",
    "# (1 * 2^5) + (0 * 2^4) + (1 * 2^3)  + (1 * 2^2)  + (0 * 2^1)  + (1 * 2^0) \n",
    "binary = '001100111001'\n",
    "# (0 * 2^5) + (1 * 2^4) + (1 * 2^3)  + (0 * 2^2)  + (0 * 2^1) + (1 * 2^5) + (1 * 2^4) + (1 * 2^3)  + (0 * 2^2)  + (0 * 2^1)  + (1 * 2^0) \n",
    "int(binary, 2)"
   ],
   "outputs": [
    {
     "output_type": "execute_result",
     "data": {
      "text/plain": [
       "825"
      ]
     },
     "metadata": {},
     "execution_count": 78
    }
   ],
   "metadata": {}
  },
  {
   "cell_type": "code",
   "execution_count": null,
   "source": [],
   "outputs": [],
   "metadata": {}
  },
  {
   "cell_type": "markdown",
   "source": [
    "# Exercise 2\n",
    "\n",
    "Conver the following hex numbers into decimal\n",
    "\n",
    "\n",
    "    27\n",
    "        (16 ^1 * 2)+ (16^0 * 7) = 32 + 7 = 39\n",
    "    \n",
    "    F\n",
    "    \n",
    "    1E\n",
    "    \n",
    "    FE2\n",
    "    \n",
    "    FEEEE7"
   ],
   "metadata": {}
  },
  {
   "cell_type": "code",
   "execution_count": 63,
   "source": [
    "print(int('27', 16))\n",
    "# (16 ^1 * 2)+ (16^0 * 7) = 39\n",
    "print(int('F', 16))\n",
    "# (16^0 * F) = 15\n",
    "print(int('1E', 16))\n",
    "# (16^1 * 1)+ (16^0 * E)  \n",
    "print(int('FE2', 16))\n",
    "# (16^2 * F) + (16^1 * E) + (16^0 * 2)  \n",
    "print(int('FEEEE7', 16))\n",
    "# (16^1 * F)+ (16^0 * E) + (16^1 * E)+ (16^0 * E) + (16^1 * E)+ (16^0 * 7)  \n",
    "print(int('AB', 16))\n",
    "# print(sum([(int(i) * (16**pos)) for pos, i in enumerate(\"1011\"[::-1])]))\n"
   ],
   "outputs": [
    {
     "output_type": "stream",
     "name": "stdout",
     "text": [
      "39\n",
      "15\n",
      "30\n",
      "4066\n",
      "16707303\n",
      "171\n",
      "4113\n"
     ]
    }
   ],
   "metadata": {}
  },
  {
   "cell_type": "markdown",
   "source": [
    "# Exercise 3\n",
    "Write a python function that uses the algorithm above to convert a decimal number into a binary number\n",
    "Extra: modify the python function to convert decimal to binary or hex based on the input of the user."
   ],
   "metadata": {}
  },
  {
   "cell_type": "code",
   "execution_count": 75,
   "source": [
    "hex_dic = {\n",
    "    'A':'10',\n",
    "    'B':'11',\n",
    "    'C':'12',\n",
    "    'D':'13',\n",
    "    'E':'14',\n",
    "    'F':'15',\n",
    "}\n",
    "def convertion(num, base):\n",
    "    if base == 16:\n",
    "        num = list(num)\n",
    "        for pos, i in enumerate (num):\n",
    "            if i in hex_dic.keys():\n",
    "                num[pos] = hex_dic[i]  \n",
    "        return sum([(int(i) * (base**pos)) for pos, i in enumerate(num[::-1])])\n",
    "    if base == 2:\n",
    "        return sum([(int(i) * (base**pos)) for pos, i in enumerate(num[::-1])])\n",
    "\n",
    "\n",
    "\n",
    "bin_num  = \"00100111\"\n",
    "bin_num1 = '00101101' \n",
    "hex_num1 = '27'\n",
    "hex_num2 = 'F'\n",
    "hex_num3 = 'FE2'\n",
    "# binary = '001100111001'\n",
    "\n",
    "print (convertion(bin_num, 2))\n",
    "print (convertion(bin_num1, 2))\n",
    "print (convertion(hex_num1, 16))\n",
    "print (convertion(hex_num2, 16))\n",
    "print (convertion(hex_num3, 16))"
   ],
   "outputs": [
    {
     "output_type": "stream",
     "name": "stdout",
     "text": [
      "39\n",
      "45\n",
      "39\n",
      "15\n",
      "4066\n"
     ]
    }
   ],
   "metadata": {}
  },
  {
   "cell_type": "code",
   "execution_count": 125,
   "source": [
    "dec = 25\n",
    "num_bin =[]\n",
    "while dec >0:\n",
    "    num_bin.append(str(0 if (dec % 2) == 0 else 1))\n",
    "    dec = dec // 2\n",
    "\n",
    "# print (num_bin)\n",
    "print ('0b' + ''.join(num_bin[::-1]))\n",
    "bin(25)"
   ],
   "outputs": [
    {
     "output_type": "stream",
     "name": "stdout",
     "text": [
      "0b11001\n"
     ]
    },
    {
     "output_type": "execute_result",
     "data": {
      "text/plain": [
       "'0b11001'"
      ]
     },
     "metadata": {},
     "execution_count": 125
    }
   ],
   "metadata": {}
  },
  {
   "cell_type": "markdown",
   "source": [
    "dec = 45\n",
    "while num > 1:\n",
    "\n"
   ],
   "metadata": {}
  }
 ],
 "metadata": {
  "orig_nbformat": 4,
  "language_info": {
   "name": "python",
   "version": "3.9.7",
   "mimetype": "text/x-python",
   "codemirror_mode": {
    "name": "ipython",
    "version": 3
   },
   "pygments_lexer": "ipython3",
   "nbconvert_exporter": "python",
   "file_extension": ".py"
  },
  "kernelspec": {
   "name": "python3",
   "display_name": "Python 3.9.7 64-bit ('venv': venv)"
  },
  "interpreter": {
   "hash": "2b6a48a62f97ea2220556cc5b2fce2dfbb06f7ab5e77c2f5871a237e1217bc60"
  }
 },
 "nbformat": 4,
 "nbformat_minor": 2
}